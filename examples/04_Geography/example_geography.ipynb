{
 "cells": [
  {
   "cell_type": "markdown",
   "id": "f6a6711f",
   "metadata": {},
   "source": [
    "# Example using Geography Module\n",
    "\n",
    "FAModel was originally designed to represent a floating array model in arbitrary space but it also has the ability to represent a model in an actual, global space (e.g., a specific floating offshore wind lease area).\n",
    "\n",
    "This file will walk through the options available to a user who wishes to use geography-related design inputs"
   ]
  },
  {
   "cell_type": "markdown",
   "id": "a145fb42",
   "metadata": {},
   "source": [
    "### CRS Setup\n",
    "\n",
    "The first step towards using geography-related tools is to set the proper coordindate-reference system (CRS). There are many CRSs that set up coordinates for the world in either a geographic coordinate system (i.e., latitude and longitude) or a projected coordinate system (i.e., UTM). The main goal is to represent the 3-D coordinates of a globe into a 2-D plane. Each coordinate reference system is going to distort the global map in some way and you're not going to be able to preserve all properties (like distances or areas). That's why Greenland appears so big on some maps. Imagine peeling an orange and then laying the peels out on a table into a rectangle...it's hard to do.\n",
    "\n",
    "There is a Python package called 'pyproj' which we use to store CRS information. As a start, we can set a 'global' CRS based on the conventional lat/long coordinate system, which is signified by a specific EPSG code: 4326"
   ]
  },
  {
   "cell_type": "code",
   "execution_count": 112,
   "id": "3532056e",
   "metadata": {},
   "outputs": [],
   "source": [
    "from pyproj import CRS\n",
    "\n",
    "latlong_crs = CRS.from_epsg(4326)"
   ]
  },
  {
   "cell_type": "markdown",
   "id": "ab905e5e",
   "metadata": {},
   "source": [
    "We can also create other CRSs based on our interests. We can create a UTM CRS (a common 2D projection) if we have a specific location we want to focus on. (Think of UTM CRSs as if you cut the Earth into 60 equidistance slices from the north pole to just above the equator and from the south pole to just below the equator). If you have a specific area of interest, the UTM projection will represent that area very well, but not exactly."
   ]
  },
  {
   "cell_type": "code",
   "execution_count": 113,
   "id": "ae65b853",
   "metadata": {},
   "outputs": [],
   "source": [
    "from pyproj.aoi import AreaOfInterest\n",
    "from pyproj.database import query_utm_crs_info\n",
    "import famodel.geography as geo\n",
    "\n",
    "target_crs = geo.getTargetCRS([-125, -124], [40, 41])"
   ]
  },
  {
   "cell_type": "markdown",
   "id": "424e638d",
   "metadata": {},
   "source": [
    "More appropriately, we can create 'custom' CRSs that create a reference system about a specific longitude and latitude (i.e., the centroid of an offshore wind lease area). This will result in the least amount of distortion in the results."
   ]
  },
  {
   "cell_type": "code",
   "execution_count": 114,
   "id": "c7395829",
   "metadata": {},
   "outputs": [],
   "source": [
    "custom_crs = geo.getCustomCRS(-124.5, 40.5)"
   ]
  },
  {
   "cell_type": "markdown",
   "id": "08465007",
   "metadata": {},
   "source": [
    "### Boundaries\n",
    "\n",
    "Next, we can set up specific boundaries in space (like a lease area, or any area that can be defined by latitude and longitude coordinates). We will use the Humboldt offshore wind lease area as an example.\n",
    "\n",
    "We use the Python package 'geopandas' to store geography-related information, in the conventional pandas format (the main difference between pandas and geopandas is that geopandas uses the 'shapely' python package to store coordinates and shapes).\n",
    "\n",
    "We can create a geopandas dataframe using 'shape files' (.shp) to store the boundary information contained in the shape file,"
   ]
  },
  {
   "cell_type": "code",
   "execution_count": 115,
   "id": "4e2c6338",
   "metadata": {},
   "outputs": [],
   "source": [
    "import geopandas as gpd\n",
    "\n",
    "lease_areas = gpd.read_file('../geography/Wind_Lease_Outlines_2_2023.shp')"
   ]
  },
  {
   "cell_type": "markdown",
   "id": "cff4b8e8",
   "metadata": {},
   "source": [
    "and then we can extract certain lease area information from that geopandas dataframe (for futher development, you will have to take a peek inside the geodataframe to determine what exact part of the shapefile you want to extract)."
   ]
  },
  {
   "cell_type": "code",
   "execution_count": 116,
   "id": "fb432da4",
   "metadata": {},
   "outputs": [],
   "source": [
    "lease_area = lease_areas.loc[lease_areas['LEASE_NUMB']=='OCS-P0562 - Provisional']"
   ]
  },
  {
   "cell_type": "markdown",
   "id": "1676e305",
   "metadata": {},
   "source": [
    "You can then extract the latitudes and longitudes of the boundary of that shape,"
   ]
  },
  {
   "cell_type": "code",
   "execution_count": 117,
   "id": "031f5ff7",
   "metadata": {},
   "outputs": [],
   "source": [
    "area_longs, area_lats = lease_area.geometry.unary_union.exterior.coords.xy"
   ]
  },
  {
   "cell_type": "markdown",
   "id": "b7b36192",
   "metadata": {},
   "source": [
    "or even get the centroid of the lease area."
   ]
  },
  {
   "cell_type": "code",
   "execution_count": 118,
   "id": "ef7a7865",
   "metadata": {},
   "outputs": [
    {
     "name": "stderr",
     "output_type": "stream",
     "text": [
      "C:\\Users\\shousner\\AppData\\Local\\Temp\\1\\ipykernel_23620\\3218981639.py:1: UserWarning: Geometry is in a geographic CRS. Results from 'centroid' are likely incorrect. Use 'GeoSeries.to_crs()' to re-project geometries to a projected CRS before this operation.\n",
      "\n",
      "  centroid = ( lease_area.geometry.centroid.values.x[0], lease_area.geometry.centroid.values.y[0] )\n"
     ]
    }
   ],
   "source": [
    "centroid = ( lease_area.geometry.centroid.values.x[0], lease_area.geometry.centroid.values.y[0] )"
   ]
  },
  {
   "cell_type": "markdown",
   "id": "21e07e5d",
   "metadata": {},
   "source": [
    "All of this is done in the geography module's function ```getLeaseCoords(lease_name)```."
   ]
  },
  {
   "cell_type": "markdown",
   "id": "e403eb0d",
   "metadata": {},
   "source": [
    "Next, we need to convert these latitudes and longitudes to meters, since that is what FAModel is most familiar with. This is where the custom CRS is useful. We can convert the latitudes and longitudes into meters relative to a specific reference point. We run the following converter function to get the boundaries in units of meters.\n",
    "\n",
    "This function uses the geopandas.to_crs() function to convert the data and then ensure that the new coordinates are relative to the input centroid (the input centroid should be the same point used to create the custom CRS).\n",
    "\n",
    "This process can also be reversed using the 'convertMeters2LatLong()' function"
   ]
  },
  {
   "cell_type": "code",
   "execution_count": 119,
   "id": "616eaecc",
   "metadata": {},
   "outputs": [
    {
     "name": "stderr",
     "output_type": "stream",
     "text": [
      "c:\\code\\floatingarraydesign\\famodel\\famodel\\geography.py:146: UserWarning: Geometry is in a geographic CRS. Results from 'centroid' are likely incorrect. Use 'GeoSeries.to_crs()' to re-project geometries to a projected CRS before this operation.\n",
      "\n",
      "  centroid = ( lease_area.geometry.centroid.values.x[0], lease_area.geometry.centroid.values.y[0] )\n"
     ]
    }
   ],
   "source": [
    "lease_name = 'Humboldt_SW'\n",
    "lease_longs, lease_lats, centroid_latlong = geo.getLeaseCoords(lease_name)\n",
    "lease_xs, lease_ys, centroid_m = geo.convertLatLong2Meters(lease_longs, lease_lats, centroid_latlong, latlong_crs, custom_crs, return_centroid=True)"
   ]
  },
  {
   "cell_type": "markdown",
   "id": "1bcd0ce9",
   "metadata": {},
   "source": [
    "### Bathymetry\n",
    "\n",
    "Once the boundaries are set up, the next important part is to set up the bathymetry based on an input GEBCO file. This can all be done by running something like the following "
   ]
  },
  {
   "cell_type": "code",
   "execution_count": 120,
   "id": "c3b69bac",
   "metadata": {},
   "outputs": [],
   "source": [
    "gebco_file = '../geography/gebco_humboldt_2023_n41.3196_s40.3857_w-125.2881_e-123.9642.asc'\n",
    "bath_longs, bath_lats, bath_depths, ncols, nrows = geo.getMapBathymetry(gebco_file)\n",
    "bath_xs, bath_ys, bath_depths = geo.convertBathymetry2Meters(bath_longs, bath_lats, bath_depths, centroid_latlong, centroid_m, latlong_crs, custom_crs, ncols, nrows)"
   ]
  },
  {
   "cell_type": "markdown",
   "id": "5f03af75",
   "metadata": {},
   "source": [
    "This section reads in a GEBCO file and extracts a list of latitudes and longitudes that define a \"rectangle\" of coordinates, where each point within that rectangle has a depth. However, in the 'meters' reference system, this will be a slightly distorted rectangle due to the differences in CRSs. This function also returns the discretization in the number of rows and columns.\n",
    "\n",
    "Those latitude and longitude values are then read into the next function, but only the maximum and minimum values are used to generate a perfect rectangle in the custom_CRS \"inside\" of the distorted geographic rectangle. It can set a new discretization between those maximum and minimum points, creates a python meshgrid, and then converts this new square back into the geographic coordinate system to make a slightly smaller distorted rectangle. It only does this so that it can reference the geographic coordinate system's depths and assign the right depths to the new \"custom CRS\" square (using the getDepthFromBathymetry function). The result is a list of x coordinates (2D array), y coordinates (2D array), and water depths (3D array) at each x/y point."
   ]
  },
  {
   "cell_type": "markdown",
   "id": "e9ddef7b",
   "metadata": {},
   "source": [
    "For use with FAModel/MoorPy, you can then write this information to a MoorPy/MoorDyn-readable text file:"
   ]
  },
  {
   "cell_type": "code",
   "execution_count": 121,
   "id": "fb333bc3",
   "metadata": {},
   "outputs": [],
   "source": [
    "geo.writeBathymetryFile('bathymetry_humboldt.txt', bath_xs, bath_ys, bath_depths)"
   ]
  },
  {
   "cell_type": "markdown",
   "id": "557d4f13",
   "metadata": {},
   "source": [
    "All of the above processes can be summarized in:"
   ]
  },
  {
   "cell_type": "code",
   "execution_count": 122,
   "id": "518a9b21",
   "metadata": {},
   "outputs": [
    {
     "name": "stderr",
     "output_type": "stream",
     "text": [
      "c:\\code\\floatingarraydesign\\famodel\\famodel\\geography.py:146: UserWarning: Geometry is in a geographic CRS. Results from 'centroid' are likely incorrect. Use 'GeoSeries.to_crs()' to re-project geometries to a projected CRS before this operation.\n",
      "\n",
      "  centroid = ( lease_area.geometry.centroid.values.x[0], lease_area.geometry.centroid.values.y[0] )\n"
     ]
    },
    {
     "name": "stdout",
     "output_type": "stream",
     "text": [
      "dict_keys(['lease_longs', 'lease_lats', 'lease_centroid', 'lease_xs', 'lease_ys', 'bath_longs', 'bath_lats', 'bath_xs', 'bath_ys', 'bath_depths'])\n"
     ]
    }
   ],
   "source": [
    "info = geo.getLeaseAndBathymetryInfo(lease_name, gebco_file, bath_ncols=100, bath_nrows=100)\n",
    "print(info.keys())"
   ]
  },
  {
   "cell_type": "markdown",
   "id": "b276baab",
   "metadata": {},
   "source": [
    "### Soil\n",
    "\n",
    "Similar processes can be done for extracting and setting up soil information\n",
    "\n",
    "```getSoilGrid()``` reads an input soil shape file and creates a rectangular grid of x coordinates (2D), y coordinates (2D) and soil names (3D string array), based on the shape file while also converting lat/long information to meters. It works by creating shape objects based on the data of the shapefile and using data within the shape file to extract the soil type name (e.g., 'mud', or 'rock')\n",
    "\n",
    "```getSoilType()``` returns the soil type name (string) that an input lat/long is above"
   ]
  },
  {
   "cell_type": "markdown",
   "id": "ffd18aec",
   "metadata": {},
   "source": [
    "These are just the immediate needs for the related floating array modeling and design work. There are likely many more applications using geography-related tools that can be done."
   ]
  }
 ],
 "metadata": {
  "kernelspec": {
   "display_name": "famodel-env",
   "language": "python",
   "name": "python3"
  },
  "language_info": {
   "codemirror_mode": {
    "name": "ipython",
    "version": 3
   },
   "file_extension": ".py",
   "mimetype": "text/x-python",
   "name": "python",
   "nbconvert_exporter": "python",
   "pygments_lexer": "ipython3",
   "version": "3.11.5"
  }
 },
 "nbformat": 4,
 "nbformat_minor": 5
}
