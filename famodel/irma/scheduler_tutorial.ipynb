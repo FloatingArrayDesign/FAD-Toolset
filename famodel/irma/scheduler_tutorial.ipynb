{
 "cells": [
  {
   "cell_type": "markdown",
   "id": "a122639d",
   "metadata": {},
   "source": [
    "# IRMA Scheduler Tutorial\n",
    "\n",
    "Welcome to the Interactive Tutorial for the **IRMA (Installation Resource Management & Analytics) Scheduler**!\n",
    "\n",
    "This notebook aims to guide new users/readers through the Mixed Integer Linear Programming (MILP) of the scheduler.\n",
    "\n",
    "## Introduction\n",
    "Imagine you are planning the schedule of installation activities for the deployment of an offshore system. \n",
    "\n",
    "📋 **Many Tasks**: Discrete work activities that need to be completed (e.g., anchor installation, cable laying)  \n",
    "🚢 **Multiple Assets**: Resources (typically vessels) that can perform certain Tasks based on their capabilities (e.g., heavy-lift vessel, cable-laying vessel, support vessel)  \n",
    "⚙️ **Task-Asset Assignments**: Multiple Assets can be assigned to each Task, where each assignment has an associated cost and time duration  \n",
    "🌊 **Weather Windows**: Assets can only work in suitable sea conditions (e.g., wind speed limits, wave height limits)  \n",
    "💰 **Time and Cost**: The schedule should aim to minimize the total cost of all tasks performed\n",
    "\n",
    "How can the scheduler figure out what assets to assign to what tasks and when to perform each task to minimize time and/or cost?"
   ]
  },
  {
   "cell_type": "markdown",
   "id": "eb9a2e12",
   "metadata": {},
   "source": [
    "### Mixed Integer Linear Programming (MILP)\n",
    "\n",
    "A type of optimization problem that uses a mixture of integer, binary, and continuous variables subject to linear constraints to minimize an objective. \n",
    "\n",
    "As an example, let's say you own a truck delivery company with 3 trucks and you need to decide which trucks to send out for delivery, where each truck ($x_i$) has a cost of delivery and a time duration. The goal is to minimize cost of delivery, under a constraint that the total delivery time needs to be at least 12 hours. The only decisions are to either send out the truck for delivery (1) or not (0).\n",
    "\n",
    "Minimize the cost function\n",
    "$$ 500x_1 + 400x_2 + 300x_3 $$\n",
    "\n",
    "subject to specific time constraints (a little counterintuitive that we need a lower bound on time, but it'll help with the whole tutorial)\n",
    "\n",
    "$$ 7x_1 + 6x_2 + 4x_3 \\geq 12 $$\n",
    "\n",
    "A MILP solver will realize that it needs at least two trucks for delivery to satisfy the time constraint and it will also figure out that Truck 2 ($x_2$) and Truck 3 ($x_3$) will not satisfy the constraint and neither will Truck 1 ($x_1$) and Truck 3 ($x_3$). That leaves the options of Truck 1 and Truck 2, or all three trucks. It will choose only Truck 1 and Truck 2 since that minimizes cost. (This also assumes that each truck can only be used once).\n",
    "\n",
    "This tutorial only considers binary variables (for now),\n",
    "\n",
    "$$x \\in \\{0,1\\}$$\n",
    "\n",
    "to determine what decisions to make to minimize the objective of the scheduler."
   ]
  },
  {
   "cell_type": "markdown",
   "id": "dfbed4e7",
   "metadata": {},
   "source": [
    "## Setup\n",
    "\n",
    "First, let's import the necessary libraries and set up our environment."
   ]
  },
  {
   "cell_type": "code",
   "execution_count": null,
   "id": "85932d75",
   "metadata": {},
   "outputs": [],
   "source": [
    "# Standard libraries\n",
    "import numpy as np\n",
    "import pandas as pd\n",
    "import matplotlib.pyplot as plt\n",
    "import sys\n",
    "import os\n",
    "\n",
    "# Add the FAModel path for imports\n",
    "sys.path.append(os.path.join(os.getcwd(), 'famodel'))\n",
    "\n",
    "# Import the IRMA scheduler\n",
    "from famodel.irma.scheduler import Scheduler\n",
    "\n",
    "# Set up plotting\n",
    "plt.style.use('default')\n",
    "plt.rcParams['figure.figsize'] = [12, 8]\n",
    "\n",
    "print(\"✅ Libraries imported successfully!\")\n",
    "print(\"📊 Ready to explore the IRMA Scheduler!\")"
   ]
  },
  {
   "cell_type": "markdown",
   "id": "5fa0ce33",
   "metadata": {},
   "source": [
    "## Simple Case: Two Tasks, Two Assets\n",
    "\n",
    "Let's start with the most basic scenario to understand the fundamentals:\n",
    "\n",
    "### Tasks\n",
    "\n",
    "Let's say that the installation of an offshore system requires two tasks: installing a mooring line, and installing an anchor, where each task has certain requirements that are needed to complete the task."
   ]
  },
  {
   "cell_type": "code",
   "execution_count": null,
   "id": "96182f3d",
   "metadata": {},
   "outputs": [],
   "source": [
    "tasks = [\n",
    "    {\n",
    "        'name': \"install_mooring\",\n",
    "        'requirements': ['mooring_reel', 'positioning']\n",
    "    },\n",
    "    {\n",
    "        'name': \"install_anchor\",\n",
    "        'requirements': ['anchor_handling','positioning']\n",
    "    }\n",
    "]\n",
    "\n",
    "# Display task information\n",
    "task_df = pd.DataFrame(tasks)\n",
    "print(task_df)"
   ]
  },
  {
   "cell_type": "markdown",
   "id": "3312e500",
   "metadata": {},
   "source": [
    "### Assets\n",
    "\n",
    "And that there are two vessels (assets) that could potentially be used to perform these installations, each with their own set of capabilities, daily cost, and an integer value to represent what weather conditions it can operate in. For example, the Multi-Purpose Supply Vessel (MPSV) cannot operate in wave heights greater than 2 m, but the Anchor Handling Tug Supply Vessel (AHTS) can, but no greater than 4 m."
   ]
  },
  {
   "cell_type": "code",
   "execution_count": null,
   "id": "5f7436a7",
   "metadata": {},
   "outputs": [],
   "source": [
    "# Define our installation vessel\n",
    "assets = [\n",
    "    {\n",
    "        'name': 'AHTS', \n",
    "        'capabilities': ['anchor_handling', 'mooring_reel', 'positioning'],\n",
    "        'daily_cost': 50000,\n",
    "        'max_weather': 2\n",
    "    },\n",
    "    {\n",
    "        'name': 'MPSV', \n",
    "        'capabilities': ['mooring_reel', 'positioning'],\n",
    "        'daily_cost': 25000,\n",
    "        'max_weather': 1\n",
    "    }\n",
    "]\n",
    "\n",
    "print(\"🚢 Asset Definition:\")\n",
    "asset_df = pd.DataFrame(assets)\n",
    "print(asset_df)"
   ]
  },
  {
   "cell_type": "markdown",
   "id": "bb6e9b04",
   "metadata": {},
   "source": [
    "### The Task-Asset Matrix\n",
    "\n",
    "Through a process that is still yet to be determined (TODO...Stein has something started), we can generate a **Task-Asset Matrix** that defines the cost and duration to perform each task by each set of assets.\n",
    "\n",
    "Each row of the task-asset matrix represents a different task and each column of the task-asset matrix represents a combination of assets.\n",
    "\n",
    "Entries with values of -1 represent task-asset pairs that are not feasible. Something like installing an anchor with a kayak."
   ]
  },
  {
   "cell_type": "code",
   "execution_count": null,
   "id": "109e75be",
   "metadata": {},
   "outputs": [],
   "source": [
    "#                 |  AHTS    |  MPSV    | AHTS+MPSV |\n",
    "# Install Mooring | (c, d)   | (c, d)   |   (c, d)  |\n",
    "# Install Anchor  | (c, d)   | (c, d)   |   (c, d)  |\n",
    "task_asset_matrix = np.array([\n",
    "                  [(2000, 2), (1000, 3), (2500, 3)],\n",
    "                  [(1500, 3), (-1,  -1), (4000, 2)]\n",
    "])\n",
    "\n",
    "print(\"🔗 Task-Asset Compatibility:\")\n",
    "print(task_asset_matrix)"
   ]
  },
  {
   "cell_type": "markdown",
   "id": "3f952cc3",
   "metadata": {},
   "source": [
    "### Asset Groups\n",
    "\n",
    "Different combinations of assets can be used for each task, and each produce a different cost and duration to perform the task based on the capabilities of the assets and the requirements of the task.\n",
    "\n",
    "The matrix generation process will filter out asset combinations that do not make sense (i.e., overlapping capabilities, maximum number of assets involved, extremely high costs, etc.)"
   ]
  },
  {
   "cell_type": "code",
   "execution_count": null,
   "id": "f52ed642",
   "metadata": {},
   "outputs": [],
   "source": [
    "asset_groups = [\n",
    "    {\n",
    "        'assets': ['AHTS'], \n",
    "    },\n",
    "    {\n",
    "        'assets': ['MPSV'], \n",
    "    },\n",
    "    {\n",
    "        'assets': ['AHTS','MPSV'], \n",
    "    },\n",
    "]\n",
    "\n",
    "print(\"🚢 Asset Groups\")\n",
    "asset_group_df = pd.DataFrame(asset_groups)\n",
    "print(asset_group_df)"
   ]
  },
  {
   "cell_type": "markdown",
   "id": "47d60811",
   "metadata": {},
   "source": [
    "### Time Periods & Weather\n",
    "\n",
    "We can also define the planning horizon (timeline) as a set of time periods with given weather conditions. Time periods could be any duration of time (e.g., hours, days, weeks, etc.).\n",
    "\n",
    "Good weather is normally designated by a 1, OK weather is designated by a 2, and bad weather is designated by a 3"
   ]
  },
  {
   "cell_type": "code",
   "execution_count": null,
   "id": "34d54959",
   "metadata": {},
   "outputs": [],
   "source": [
    "weather = [1, 1, 1, 1, 1]   # Start by defining 5 time periods, each with good weather\n",
    "\n",
    "print(\"📅 Planning Horizon:\")\n",
    "weather_df = pd.DataFrame({\n",
    "    'Weather_Condition': weather,\n",
    "    'Description': ['Good weather'] * len(weather)\n",
    "})\n",
    "print(weather_df)"
   ]
  },
  {
   "cell_type": "markdown",
   "id": "81284df5",
   "metadata": {},
   "source": [
    "### Running the Simple Scheduler\n",
    "\n",
    "Now let's create and run our first scheduler instance, which simply sets up many variables within the Scheduler class."
   ]
  },
  {
   "cell_type": "code",
   "execution_count": null,
   "id": "c920c16f",
   "metadata": {},
   "outputs": [],
   "source": [
    "# Create the scheduler for our simple scenario\n",
    "print(\"🔧 Creating scheduler for simple scenario...\")\n",
    "\n",
    "scheduler = Scheduler(\n",
    "    tasks=tasks,\n",
    "    assets=assets,\n",
    "    task_asset_matrix=task_asset_matrix,\n",
    "    weather=weather,\n",
    "    asset_groups=asset_groups,\n",
    "    wordy=0  # Enable some debug output\n",
    ")\n",
    "\n",
    "print(\"✅ Scheduler created successfully!\")"
   ]
  },
  {
   "cell_type": "markdown",
   "id": "d9604377",
   "metadata": {},
   "source": [
    "## Understanding the Mathematical Constraints\n",
    "\n",
    "Before we dive into the results of the scheduler, let's understand how the IRMA scheduler actually works under the hood\n",
    "\n",
    "### Decision Variables:\n",
    "\n",
    "The scheduler initialization uses three types of binary decision variables in the MILP optimization (each can be 0 or 1):\n",
    "\n",
    "**📋 Task-Asset Assignment Variables** `Xta[t,a]`: determines whether task $t$ is assigned to asset group $a$\n",
    "- `Xta[0,1] = 1` means \"Task 0 is assigned to Asset 1\"\n",
    "- `Xta[0,1] = 0` means \"Task 0 is NOT assigned to Asset 1\"\n",
    "\n",
    "**⏰ Task-Period Activity Variables** `Xtp[t,p]`: determines if task $t$ is active in period $p$\n",
    "- `Xtp[0,3] = 1` means \"Task 0 is active during Period 3\"  \n",
    "- `Xtp[0,3] = 0` means \"Task 0 is NOT active during Period 3\"\n",
    "\n",
    "**🚀 Task Start Time Variables** `Xts[t,s]`: determines if task $t$ starts at period $s$\n",
    "- `Xts[0,2] = 1` means \"Task 0 starts at Period 2\"\n",
    "- `Xts[0,2] = 0` means \"Task 0 does NOT start at Period 2\"\n",
    "\n",
    "The only 'decisions' are whether certain asset groups are assigned to certain tasks $(X_{t,a})$, and when the task starts $(X_{t,vas}r)i$a.bles  The $X_{t,p}$ are also included to help organize the constraints in determining what periods each task occupy, based on the duration of the task-asset combination defined in the task-asset matrix.\n",
    "\n",
    "The full decision variable vector $x$ then follows the form of \n",
    "\n",
    "$$ x = [X_{t,a}, X_{t,p}, X_{t,s}] $$\n",
    "\n",
    "where the length depends on the number of tasks $T$, the number of asset groups $A$, and the number of periods $P$\n"
   ]
  },
  {
   "cell_type": "markdown",
   "id": "fab8e41a",
   "metadata": {},
   "source": [
    "### Constraints\n",
    "\n",
    "Each constraint ensures the solution makes logical sense. In an MILP optimization, constraints are set to be linear and follow the form of \n",
    "\n",
    "$$\n",
    " A_{ub} \\text{ } x \\text{ } \\leq b_{ub} \\\\\n",
    " A_{eq} \\text{ } x \\text{ } = b_{eq}    \\\\\n",
    " A_{lb} \\text{ } x \\text{ } \\geq b_{lb} \\\\\n",
    "$$\n",
    "\n",
    "where $A$ and $b$ represent large vectors that when multipled by the binary decision variables of the $x$ vector, need to satisfy the constraint according to $b$."
   ]
  },
  {
   "cell_type": "markdown",
   "id": "8178632c",
   "metadata": {},
   "source": [
    "In the example at the top of this tutortial, we would structure the constraint as the following:\n",
    "\n",
    "$$\n",
    "\\begin{bmatrix}\n",
    "7 & 6 & 4\n",
    "\\end{bmatrix}\n",
    "\\begin{bmatrix}\n",
    "x_1 \\\\ x_2 \\\\ x_3\n",
    "\\end{bmatrix}\n",
    "\\ge 12\n",
    "$$\n",
    "\n",
    "This format is used to define many other constraints necessary for a logical sotion for the scheduler. Each constraint is explained below. But first, we run the `set_up_optimizer()` function to create all the constraints that we can then analyze through this tutorial."
   ]
  },
  {
   "cell_type": "code",
   "execution_count": null,
   "id": "00766591",
   "metadata": {},
   "outputs": [],
   "source": [
    "scheduler.set_up_optimizer()"
   ]
  },
  {
   "cell_type": "markdown",
   "id": "8b8d4ec3",
   "metadata": {},
   "source": [
    "#### Constraint 1: Task-Asset Validity 🔒\n",
    "\n",
    "**English**: An asset group can only be assigned to a task if the asset group can perform the task.\n",
    "\n",
    "**Impact**: Prevents impossible assignments (Xta variables that correspond to invalid entries in the task-asset matrix from being turned on) that would break the physics of the problem.\n",
    "\n",
    "**Math**: \n",
    "$$\n",
    "X_{t,a} = 0 \\quad \\text{for all } (t,a) \\text{ where } c_{t,a} < 0 \\text{ or } d_{t,a} < 0\n",
    "$$\n",
    "\n",
    "**Implementation** for the current example:"
   ]
  },
  {
   "cell_type": "code",
   "execution_count": null,
   "id": "41a2e1e6",
   "metadata": {},
   "outputs": [],
   "source": [
    "# Constraint 1: Task-Asset Validity Matrix Construction\n",
    "print(\"🔒 Constraint 1: Task-Asset Validity\")\n",
    "print()\n",
    "\n",
    "if hasattr(scheduler, 'A_eq_1'):\n",
    "    print(f\"A_eq_1 matrix equations (shape: {scheduler.A_eq_1.shape}):\")\n",
    "    for i, (row, b_val) in enumerate(zip(scheduler.A_eq_1, scheduler.b_eq_1)):\n",
    "        row_str = '[' + ' '.join([str(val) for val in row]) + ']'\n",
    "        print(f\"{row_str} x = {b_val}\")\n",
    "else:\n",
    "    print(\"No invalid task-asset pairs found - no constraints needed\")"
   ]
  },
  {
   "cell_type": "markdown",
   "id": "325b590e",
   "metadata": {},
   "source": [
    "In this example, we are constraining the system so that\n",
    "\n",
    "$$\n",
    "X_{t,a}[1,1] = 0\n",
    "$$\n",
    "\n",
    "since that is the only entry of the task-asset matrix that is infeasible"
   ]
  },
  {
   "cell_type": "markdown",
   "id": "15391d22",
   "metadata": {},
   "source": [
    "#### Constraint 3: Exactly One Asset Per Task ⚖️\n",
    "\n",
    "**English**: Each task must be assigned to exactly one asset group\n",
    "\n",
    "**Impact**: Prevents a task from being unassigned (would never complete) or over-assigned (physically impossible).\n",
    "\n",
    "**Math**: \n",
    "$$\n",
    "\\sum_{a=0}^{A-1} X_{t,a} = 1 \\quad \\forall t \\in \\{0, 1, \\ldots, T-1\\}\n",
    "$$\n",
    "\n",
    "**Implementation** for the current example:"
   ]
  },
  {
   "cell_type": "code",
   "execution_count": null,
   "id": "36b17bb8",
   "metadata": {},
   "outputs": [],
   "source": [
    "# Constraint 3: Exactly One Asset Per Task Matrix Construction\n",
    "print(\"⚖️ Constraint 3: Exactly One Asset Per Task\")\n",
    "print()\n",
    "\n",
    "print(f\"A_eq_3 matrix equations (shape: {scheduler.A_eq_3.shape}):\")\n",
    "for i, (row, b_val) in enumerate(zip(scheduler.A_eq_3, scheduler.b_eq_3)):\n",
    "    row_str = '[' + ' '.join([str(val) for val in row]) + ']'\n",
    "    print(f\"{row_str} x = {b_val}\")"
   ]
  },
  {
   "cell_type": "markdown",
   "id": "2b1a8158",
   "metadata": {},
   "source": [
    "In this example, we are constraining the system so that\n",
    "\n",
    "$$ X_{t,a}[0,0] + X_{t,a}[0,1] + X_{t,a}[0,2] = 1 $$ and $$ X_{t,a}[1,0] + X_{t,a}[1,1] + X_{t,a}[1,2] = 1 $$\n",
    "\n",
    "which doesn't allow more than 1 asset group assignment per task\n"
   ]
  },
  {
   "cell_type": "markdown",
   "id": "a4283498",
   "metadata": {},
   "source": [
    "#### Constraint 15: Each Task Must Have A Start Time 🚀\n",
    "\n",
    "**English**: Every task must start exactly once\n",
    "\n",
    "**Impact**: Tasks must start to be completed, and they can only start once.\n",
    "\n",
    "**Math**: \n",
    "$$\n",
    "\\sum_{s=0}^{S-1} X_{t,s} = 1 \\quad \\forall t \\in \\{0, 1, \\ldots, T-1\\}\n",
    "$$\n",
    "\n",
    "**Implementation** for the current example:"
   ]
  },
  {
   "cell_type": "code",
   "execution_count": null,
   "id": "50d925d8",
   "metadata": {},
   "outputs": [],
   "source": [
    "# Constraint 15: Each Task Must Have A Start Time Matrix Construction\n",
    "print(\"🚀 Constraint 15: Each Task Must Have A Start Time\")\n",
    "print()\n",
    "\n",
    "print(f\"A_eq_15 matrix equations (shape: {scheduler.A_eq_15.shape}):\")\n",
    "for i, (row, b_val) in enumerate(zip(scheduler.A_eq_15, scheduler.b_eq_15)):\n",
    "    row_str = '[' + ' '.join([str(val) for val in row]) + ']'\n",
    "    print(f\"{row_str} x = {b_val}\")"
   ]
  },
  {
   "cell_type": "markdown",
   "id": "78cec84a",
   "metadata": {},
   "source": [
    "In this example, we are constraining the system so that\n",
    "\n",
    "$$ X_{t,s}[0,0] + X_{t,s}[0,1] + X_{t,s}[0,2] + X_{t,s}[0,3] + X_{t,s}[0,4] = 1 $$ and $$ X_{t,s}[1,0] + X_{t,s}[1,1] + X_{t,s}[1,2] + X_{t,s}[1,3] + X_{t,s}[1,4] = 1 $$\n",
    "\n",
    "which doesn't allow more than 1 start time per task"
   ]
  },
  {
   "cell_type": "markdown",
   "id": "828e65f8",
   "metadata": {},
   "source": [
    "#### Constraint 10: Task Duration Must Not Exceed Planning Horizon 📅\n",
    "\n",
    "**English**: A task cannot start at a time where its duration would extend beyond the available planning periods.\n",
    "\n",
    "**Impact**: Prevents scheduling tasks that would run past the end of the planning window, ensuring all work completes within the defined timeframe.\n",
    "\n",
    "**Math**: \n",
    "$$\n",
    "X_{t,a}[t,a] + X_{t,s}[t,s] \\leq 1 \\quad \\forall t, a, s \\quad \\text{ where } \\quad d_{t,a} > 0 \\text{ and } s + d_{t,a} > P\n",
    "$$\n",
    "\n",
    "**Implementation** for the current example:"
   ]
  },
  {
   "cell_type": "code",
   "execution_count": null,
   "id": "37f32f59",
   "metadata": {},
   "outputs": [],
   "source": [
    "# Constraint 10: Task Duration Must Not Exceed Planning Horizon Matrix Construction\n",
    "print(\"📅 Constraint 10: Task Duration Must Not Exceed Planning Horizon\")\n",
    "print()\n",
    "\n",
    "if hasattr(scheduler, 'A_ub_10'):\n",
    "    print(f\"A_ub_10 matrix equations (shape: {scheduler.A_ub_10.shape}):\")\n",
    "    for i, (row, b_val) in enumerate(zip(scheduler.A_ub_10, scheduler.b_ub_10)):\n",
    "        row_str = '[' + ' '.join([str(val) for val in row]) + ']'\n",
    "        print(f\"{row_str} x ≤ {b_val}\")\n",
    "else:\n",
    "    print(\"No duration violations found - all tasks can complete within planning horizon\")"
   ]
  },
  {
   "cell_type": "markdown",
   "id": "82b1b5fd",
   "metadata": {},
   "source": [
    "In this example, we are constraining the system so that \n",
    "\n",
    "$ X_{t,a}[0,0] + X_{t,s}[0,4] \\leq 1 \\quad X_{t,a}[0,1] + X_{t,s}[0,3] \\leq 1 \\quad X_{t,a}[0,1] + X_{t,s}[0,4] \\leq 1 $\n",
    "\n",
    "which says that if the first asset group is assigned to the first task, then the first task cannot start in the last period (because its duration is 2 periods). Similarly, if the second asset group is assigned to the first task, then the first task cannot start in the fourth or fifth periods (because its duration is 3 periods)."
   ]
  },
  {
   "cell_type": "markdown",
   "id": "547fcd6a",
   "metadata": {},
   "source": [
    "#### Constraint 14a: Task Must Be Active When It Starts ⏰\n",
    "\n",
    "**English**: If a task starts in a specific period, it must also be active in that same period.\n",
    "\n",
    "**Impact**: Links start time decisions to activity periods - ensures that when a task starts, it's immediately active.\n",
    "\n",
    "**Math**: \n",
    "$$\n",
    "X_{t,s}[t,s] \\leq X_{t,p}[t,p] \\quad \\forall t, s \\quad \\text{ where } \\quad s = p \\text{ and } s < P\n",
    "$$\n",
    "\n",
    "**Implementation** for the current example:"
   ]
  },
  {
   "cell_type": "code",
   "execution_count": null,
   "id": "864b9a1e",
   "metadata": {},
   "outputs": [],
   "source": [
    "# Constraint 14a: Task Must Be Active When It Starts Matrix Construction\n",
    "print(\"⏰ Constraint 14a: Task Must Be Active When It Starts\")\n",
    "print()\n",
    "\n",
    "if hasattr(scheduler, 'A_ub_14a'):\n",
    "    print(f\"A_ub_14a matrix equations (shape: {scheduler.A_ub_14a.shape}):\")\n",
    "    for i, (row, b_val) in enumerate(zip(scheduler.A_ub_14a, scheduler.b_ub_14a)):\n",
    "        row_str = '[' + ' '.join([str(val) for val in row]) + ']'\n",
    "        print(f\"{row_str} x ≤ {b_val}\")\n",
    "else:\n",
    "    print(\"No start-time to period mapping constraints needed\")"
   ]
  },
  {
   "cell_type": "markdown",
   "id": "4be12261",
   "metadata": {},
   "source": [
    "In this example, we are constraining the system so that \n",
    "\n",
    "$ -X_{t,p}[0,0] + X_{t,s}[0,0] \\leq 0 \\quad -X_{t,p}[0,1] + X_{t,s}[0,1] \\leq 0 \\quad -X_{t,p}[0,2] + X_{t,s}[0,2] \\leq 0 $\n",
    "\n",
    "which says that if the first task starts in the first time period, then the Xtp variable that corresponds to that start period must also be turned on."
   ]
  },
  {
   "cell_type": "markdown",
   "id": "0d13c74a",
   "metadata": {},
   "source": [
    "#### Constraint 14b: Task Activity Must Match Duration ⏱️\n",
    "\n",
    "**English**: If a task is assigned to an asset and starts at a specific time, it must be active for exactly the duration required by that task-asset combination.\n",
    "\n",
    "**Impact**: Ensures tasks run for their complete required duration based on the chosen asset assignment and start time.\n",
    "\n",
    "**Math**: \n",
    "$$\n",
    "X_{t,a}[t,a] + X_{t,s}[t,s] - X_{t,p}[t,p] \\leq 1 \\quad \\forall t, a, s, p \\quad \\text{ where } \\quad d_{t,a} > 0 \\text{ and } s \\leq p < s + d_{t,a}\n",
    "$$\n",
    "\n",
    "**Implementation** for the current example:"
   ]
  },
  {
   "cell_type": "code",
   "execution_count": null,
   "id": "b8fdfa7d",
   "metadata": {},
   "outputs": [],
   "source": [
    "# Constraint 14b: Task Activity Must Match Duration Matrix Construction\n",
    "print(\"⏱️ Constraint 14b: Task Activity Must Match Duration\")\n",
    "print()\n",
    "\n",
    "if hasattr(scheduler, 'A_ub_14b'):\n",
    "    print(f\"A_ub_14b matrix equations (shape: {scheduler.A_ub_14b.shape}):\")\n",
    "    for i, (row, b_val) in enumerate(zip(scheduler.A_ub_14b, scheduler.b_ub_14b)):\n",
    "        row_str = '[' + ' '.join([str(val) for val in row]) + ']'\n",
    "        print(f\"{row_str} x ≤ {b_val}\")\n",
    "else:\n",
    "    print(\"No duration enforcement constraints needed\")"
   ]
  },
  {
   "cell_type": "markdown",
   "id": "5a86ce07",
   "metadata": {},
   "source": [
    "In this example, we are constraining the system so that \n",
    "\n",
    "$ X_{t,a}[0,0] - X_{t,p}[0,0] + X_{t,s}[0,0] \\leq 1 \\quad X_{t,a}[0,0] - X_{t,p}[0,1] + X_{t,s}[0,0] \\leq 1 \\quad X_{t,a}[0,0] - X_{t,p}[0,1] + X_{t,s}[0,1] \\leq 1$\n",
    "\n",
    "which ensures that for each case when a task-asset group starts in a certain time period, the Xtp variables that would align with the start time period and the duration of the task are turned on. The list of constraints follows a pattern where it loops through all task-asset group options, and then loops through all start time options, and uses a -1 coefficient on the Xtp variables that equate to the duration of the task. Constraint 14a only does the first Xtp variable corresponding to the start time. Constraint 14b ensures the Xtp variables that align with the duration of the task are also turned on."
   ]
  },
  {
   "cell_type": "markdown",
   "id": "2140b7de",
   "metadata": {},
   "source": [
    "#### Constraint 16: Each Task Active For Exactly Its Duration ⚖️\n",
    "\n",
    "**English**: The total number of periods a task is active must exactly equal the duration required by its assigned asset group.\n",
    "\n",
    "**Impact**: Prevents tasks from being active for longer or shorter than required, working with Constraint 14b to ensure precise duration matching.\n",
    "\n",
    "**Math**: \n",
    "$$\n",
    "\\sum_{p=0}^{P-1} X_{t,p} = \\sum_{a=0}^{A-1} X_{t,a} \\cdot d_{t,a} \\quad \\forall t\n",
    "$$\n",
    "\n",
    "**Note**: Constraint 14b ensures tasks are active during their assigned periods, but doesn't necessarily prevent periods from being active outside of the ones that it specifies in this constraint. For example, if Task 0 uses Asset 1 with duration=3 and starts in Period 2, Constraint 14b ensures Periods 2, 3, and 4 are turned on, but doesn't prevent Task 0 from being active in Periods 0, 1, or 5. Constraint 16 ensures the sum of Xtp variables equals the duration exactly. This method does not seem the cleanest right now, but no other methods were found that were cleaner.\n",
    "\n",
    "**Implementation** for the current example:"
   ]
  },
  {
   "cell_type": "code",
   "execution_count": null,
   "id": "1bc91077",
   "metadata": {},
   "outputs": [],
   "source": [
    "# Constraint 16: Each Task Active For Exactly Its Duration Matrix Construction\n",
    "print(\"⚖️ Constraint 16: Each Task Active For Exactly Its Duration\")\n",
    "print()\n",
    "\n",
    "if hasattr(scheduler, 'A_eq_16'):\n",
    "    print(f\"A_eq_16 matrix equations (shape: {scheduler.A_eq_16.shape}):\")\n",
    "    for i, (row, b_val) in enumerate(zip(scheduler.A_eq_16, scheduler.b_eq_16)):\n",
    "        row_str = '[' + ' '.join([str(val) for val in row]) + ']'\n",
    "        print(f\"{row_str} x = {b_val}\")\n",
    "else:\n",
    "    print(\"No duration matching constraints needed\")"
   ]
  },
  {
   "cell_type": "markdown",
   "id": "e47ebb3a",
   "metadata": {},
   "source": [
    "In this example, we are constraining the system so that \n",
    "\n",
    "$$ -2X_{t,a}[0,0] - 3X_{t,a}[0,1] -3X_{t,a}[0,2] + X_{t,p}[0,0] + X_{t,p}[0,1] + X_{t,p}[0,2] + X_{t,p}[0,3] + X_{t,p}[0,4] = 0 $$\n",
    "$$ -3X_{t,a}[1,0] - 3X_{t,a}[1,2] + X_{t,p}[1,0] + X_{t,p}[1,1] + X_{t,p}[1,2] + X_{t,p}[1,3] + X_{t,p}[1,4] = 0 $$\n",
    "\n",
    "which ensures that no matter which Xta pair is selected, per task, that sum of the Xtp variables must equal the corresponding coefficient. If the first asset group is assigned to the first task, then there needs to be only two Xtp[0,p] variables turned on. Constraint 3 ensures that multiple Xta variables per task are not selected. This constraint is used because while Constraint 14b ensures the proper Xtp variables are turned on based on the task's duration, it has no control over the other Xtp variables outside of the start time period plus duration. This constraint provides the upper bound on those Xtp variables."
   ]
  },
  {
   "cell_type": "markdown",
   "id": "3261ea5b",
   "metadata": {},
   "source": [
    "#### Constraint 4: Asset Conflict Prevention 🚫\n",
    "\n",
    "**English**: Individual assets cannot be used by multiple tasks simultaneously, even when those assets are part of different asset groups.\n",
    "\n",
    "**Impact**: Prevents physical resource conflicts where the same vessel would need to be in two places at once, ensuring realistic scheduling.\n",
    "\n",
    "**Math**: \n",
    "$$\n",
    "X_{t,a}[t_1,a_1] + X_{t,a}[t_2,a_2] + X_{t,p}[t_1,p] + X_{t,p}[t_2,p] \\leq 3 \\quad \\forall t_1, t_2, a_1, a_2, p \\text{ where individual assets overlap in asset groups}\n",
    "$$\n",
    "\n",
    "**Implementation** for the current example:"
   ]
  },
  {
   "cell_type": "code",
   "execution_count": null,
   "id": "506a0fbd",
   "metadata": {},
   "outputs": [],
   "source": [
    "# Constraint 4: Asset Conflict Prevention Matrix Construction\n",
    "print(\"🚫 Constraint 4: Asset Conflict Prevention\")\n",
    "print()\n",
    "\n",
    "if hasattr(scheduler, 'A_ub_4'):\n",
    "    print(f\"A_ub_4 matrix equations (shape: {scheduler.A_ub_4.shape}):\")\n",
    "    for i, (row, b_val) in enumerate(zip(scheduler.A_ub_4, scheduler.b_ub_4)):\n",
    "        row_str = '[' + ' '.join([str(val) for val in row]) + ']'\n",
    "        print(f\"{row_str} x ≤ {b_val}\")\n",
    "else:\n",
    "    print(\"No individual asset conflicts found - no constraints needed\")"
   ]
  },
  {
   "cell_type": "markdown",
   "id": "ef463b1c",
   "metadata": {},
   "source": [
    "In this example, we are constraining the system so that \n",
    "\n",
    "$ X_{t,a}[0,0] + X_{t,a}[1,0] + X_{t,p}[0,0] + X_{t,p}[1,0] \\leq 3 $\n",
    "\n",
    "which ensures that if different tasks use the same asset (that are included in different asset groups), then that asset can only be used for one time period. In this case, if both tasks use the first asset group (which has the same assets between each other), then only one task can have their Xtp variables turned on because assets can't be doing two things at once. We also have other constraints like\n",
    "\n",
    "$ X_{t,a}[0,0] + X_{t,a}[1,2] + X_{t,p}[0,0] + X_{t,p}[1,0] \\leq 3 $\n",
    "\n",
    "which is used because the third asset group has at least one of the same assets that the first asset group has, and so the same rules apply. The implementation checks for similar assets in different asset groups and creates the constraints based on those overlaps. The bound value of 3 in this example is a function of the number of tasks (1 + T)."
   ]
  },
  {
   "cell_type": "markdown",
   "id": "4482266b",
   "metadata": {},
   "source": [
    "### Constraint Summary 🔗\n",
    "\n",
    "1. **Constraint 1** ensures only valid assignments are possible\n",
    "2. **Constraint 3** ensures every task gets exactly one asset\n",
    "3. **Constraint 15** ensures every task starts exactly once  \n",
    "4. **Constraint 10** ensures the task duration does not exceed planning horizon\n",
    "5. **Constraint 14a** links start time to activity period\n",
    "6. **Constraint 14b** links start times to activity periods with correct duration\n",
    "7. **Constraint 16** equates total activity periods to correct duration\n",
    "8. **Constraint 4** prevents resource conflicts between asset groups"
   ]
  },
  {
   "cell_type": "markdown",
   "id": "4736b501",
   "metadata": {},
   "source": [
    "### Objectives and other MILP Inputs\n",
    "\n",
    "Beyond the constraint matrices, the MILP optimizer requires three additional key inputs: the objective values vector, variable bounds, and integrality specifications.\n",
    "\n",
    "#### 1. Objective Values Vector\n",
    "\n",
    "The `values` vector defines the coefficients for the objective function that the optimizer seeks to minimize. In IRMA's scheduler, this represents the cost or penalty associated with each decision variable.\n",
    "\n",
    "Each element corresponds to a decision variable and represents the \"cost\" of setting that variable to 1.\n",
    "\n",
    "$$\\text{minimize } \\mathbf{c}^T \\mathbf{x} = \\sum_{i} c_i x_i$$\n",
    "\n",
    "where $c_i$ is the cost coefficient and $x_i$ is the binary decision variable.\n",
    "\n",
    "The costs of each task-asset combination are included as entries to the values vector for each coresponding Xta variable.\n",
    "\n",
    "Penalties are also included for each Xts variable to incentivize earlier Xts variables to be selected rather than later."
   ]
  },
  {
   "cell_type": "code",
   "execution_count": null,
   "id": "193c7cc0",
   "metadata": {},
   "outputs": [],
   "source": [
    "print(scheduler.values)"
   ]
  },
  {
   "cell_type": "markdown",
   "id": "bf52c3c9",
   "metadata": {},
   "source": [
    "### 2. Bounds\n",
    "\n",
    "The `bounds` parameter defines the lower and upper limits for each decision variable. In our case, all decision variables are binary (0 or 1), so bounds are set as:\n",
    "```python\n",
    "bounds = optimize.Bounds(0, 1)  # 0 ≤ x_i ≤ 1\n",
    "```\n",
    "\n",
    "**Mathematical Form**: For each variable $x_i$:\n",
    "$$0 \\leq x_i \\leq 1$$\n",
    "\n",
    "\n",
    "### 3. Integrality\n",
    "\n",
    "The `integrality` parameter specifies which variables must take integer values. It forces variables to be integers rather than continuous. In our case, we are only working with binary integers so integrality is set to 1 for all variables:\n",
    "```python\n",
    "integrality = np.ones(num_variables, dtype=int)  # All variables are integers\n",
    "```\n",
    "\n",
    "**Mathematical Form**: Each variable $x_i$ must satisfy:\n",
    "$$x_i \\in \\{0, 1\\}$$\n",
    "\n",
    "Combined with bounds [0,1], this creates binary decision variables that are either \"not selected\" (0) or \"selected\" (1).\n"
   ]
  },
  {
   "cell_type": "markdown",
   "id": "2c0bb658",
   "metadata": {},
   "source": [
    "## Running the Code\n",
    "\n",
    "When you run `scheduler.optimize()`, the optimization engine:\n",
    "\n",
    "1. **Builds** the constraint matrices (A_ub, A_eq, b_ub, b_eq) and MILP inputs\n",
    "2. **Solves** the MILP problem using scipy.optimize.milp\n",
    "3. **Returns** optimal values for all decision variables\n",
    "4. **Decodes** the solution into human-readable schedules\n",
    "\n",
    "An example of how the optimizer is called:"
   ]
  },
  {
   "cell_type": "markdown",
   "id": "5c4a053c",
   "metadata": {},
   "source": [
    "```python\n",
    "from scipy.optimize import milp\n",
    "\n",
    "res = milp(\n",
    "    c=values,                # Objective function coefficients\n",
    "    constraints=constraints, # List of LinearConstraint objects\n",
    "    integrality=integrality, # Integer specification for each variable\n",
    "    bounds=bounds           # Variable bounds (0 to 1 for binary)\n",
    ")\n",
    "```"
   ]
  },
  {
   "cell_type": "markdown",
   "id": "eee8140e",
   "metadata": {},
   "source": [
    "This formulates and solves the complete Mixed Integer Linear Programming problem:\n",
    "- **Minimize**: $\\mathbf{c}^T \\mathbf{x}$ (total cost)\n",
    "- **Subject to**: All constraint equations\n",
    "- **Where**: $x_i \\in \\{0, 1\\}$ for all $i$ (binary decisions)\n",
    "\n",
    "Let's see this in action with our simple example!"
   ]
  },
  {
   "cell_type": "code",
   "execution_count": null,
   "id": "06088598",
   "metadata": {},
   "outputs": [],
   "source": [
    "# Solve the optimization problem\n",
    "print(\"🚀 Solving the optimization problem...\\n\")\n",
    "\n",
    "result = scheduler.optimize()"
   ]
  },
  {
   "cell_type": "markdown",
   "id": "8fea43f1",
   "metadata": {},
   "source": [
    "The results of the optimization provide a schedule for installation that minimizes cost and sastisfies all constraints!\n",
    "\n",
    "- The optimization follows our penalty of starting tasks as soon as possible\n",
    "- It decides to schedule the \"Install Mooring\" task in the first 3 periods using the MPSV asset\n",
    "- It decides to schedule the \"Install Anchor\" task also in the first 3 periods but using a separate vessel, the AHTS asset, which is allowed.\n",
    "- This combination of task-asset group assignments minimized cost and kept all of our logical constraints honored.\n",
    "\n",
    "Now let's adjust the weather to see how that impacts the schedule and the limits of each asset group"
   ]
  },
  {
   "cell_type": "markdown",
   "id": "72cf987f",
   "metadata": {},
   "source": [
    "### Constraint 17: Weather Restrictions 🌊\n",
    "\n",
    "**English**: Asset groups cannot be assigned to tasks during periods when weather conditions exceed their operational limits.\n",
    "\n",
    "**Impact**: Prevents scheduling tasks during unsuitable weather conditions, ensuring safety and operational limits are respected.\n",
    "\n",
    "**Math**:\n",
    "$$\n",
    "X_{t,a}[t,a] + X_{t,p}[t,p] \\leq 1 \\quad \\forall t, a, p \\quad \\text{ where } \\quad w_p > \\text{max\\_weather}_a\n",
    "$$\n",
    "\n",
    "where:\n",
    "- $w_p$ = weather severity in period $p$\n",
    "- $\\text{max\\_weather}_a$ = minimum weather capability across all individual assets in asset group $a$\n",
    "\n",
    "**Implementation** for our current example (WHILE UPDATING OUR WEATHER CONDITIONS):"
   ]
  },
  {
   "cell_type": "code",
   "execution_count": null,
   "id": "96ec542e",
   "metadata": {},
   "outputs": [],
   "source": [
    "#scheduler.weather = [1, 2, 3, 3, 1]\n",
    "scheduler.weather = [2, 3, 1, 1, 1]\n",
    "scheduler.set_up_optimizer()\n",
    "\n",
    "# Constraint 17: Weather Restrictions Matrix Construction\n",
    "print(\"🌊 Constraint 17: Weather Restrictions\")\n",
    "print()\n",
    "\n",
    "if hasattr(scheduler, 'A_ub_17'):\n",
    "    print(f\"A_ub_17 matrix equations (shape: {scheduler.A_ub_17.shape}):\")\n",
    "    for i, (row, b_val) in enumerate(zip(scheduler.A_ub_17, scheduler.b_ub_17)):\n",
    "        row_str = '[' + ' '.join([str(val) for val in row]) + ']'\n",
    "        print(f\"{row_str} x ≤ {b_val}\")\n",
    "else:\n",
    "    print(\"No weather restrictions needed - all asset groups can work in all conditions\")"
   ]
  },
  {
   "cell_type": "markdown",
   "id": "ddf4089c",
   "metadata": {},
   "source": [
    "In this example, we have adjusted the weather conditions of the scenario (1, 2, 2, 3, 1), which adds additional constraints: \n",
    "\n",
    "$ X_{t,a}[0,0] + X_{t,p}[0,1] \\leq 1 $\n",
    "\n",
    "which does not allow the first task-asset group combination to be active in the second period, since that period has weather conditions that exceed the allowances of the minimum asset in that asset group. Similarly, there are other constraints like\n",
    "\n",
    "$ X_{t,a}[0,2] + X_{t,p}[0,0] \\leq 1 \\quad X_{t,a}[0,2] + X_{t,p}[0,1] \\leq 1 $\n",
    "\n",
    "which does not allow the second asset group combined with the first task to be active in the first or second periods, since those periods have weather conditions that exceed the minimum allowance of the asset in that asset group.\n",
    "\n",
    "Now, let's rerun the scheduler and see what impact it has."
   ]
  },
  {
   "cell_type": "code",
   "execution_count": null,
   "id": "83598fda",
   "metadata": {},
   "outputs": [],
   "source": [
    "# Solve the optimization problem\n",
    "print(\"🚀 Solving the optimization problem with adjusted weather conditions\\n\")\n",
    "\n",
    "result = scheduler.optimize()"
   ]
  },
  {
   "cell_type": "markdown",
   "id": "3721fb07",
   "metadata": {},
   "source": [
    "The results of this new optimization show how the weather impacts the schedule!\n",
    "\n",
    "- Bad weather in period 1 does not allow any task-asset combination from being scheduled in that period\n",
    "- This means that the tasks have to happen in periods 2, 3, and 4\n",
    "\n",
    "Now let's adjust the weather back to the original calm status and add in dependency constraints"
   ]
  },
  {
   "cell_type": "markdown",
   "id": "caba0c18",
   "metadata": {},
   "source": [
    "### Constraint 2: Task Dependencies 🔗\n",
    "\n",
    "**English**: Tasks must be completed in a specific order based on their dependencies. For example, a task cannot start until all its prerequisite tasks have been completed.\n",
    "\n",
    "**Impact**: Ensures logical sequencing of installation activities - for example, anchors must be installed before mooring lines can be connected to them.\n",
    "\n",
    "**Math**: For finish_start dependency (most common type):\n",
    "$$\n",
    "X_{t,s}[t,s] \\leq \\sum_{s_d=0}^{s-d_{min}} X_{t,s}[d,s_d] \\quad \\forall t, s \\quad \\text{ where task } t \\text{ depends on task } d\n",
    "$$\n",
    "\n",
    "where:\n",
    "- $d_{min}$ = minimum duration of dependency task $d$ across all possible assets\n",
    "- Task $t$ can only start at time $s$ if task $d$ started early enough to finish before time $s$\n",
    "\n",
    "**Implementation** for our example, which requires re-initializing the scheduler:"
   ]
  },
  {
   "cell_type": "code",
   "execution_count": null,
   "id": "ef062653",
   "metadata": {},
   "outputs": [],
   "source": [
    "# Let's create a new scheduler instance with task dependencies\n",
    "print(\"🔗 Constraint 2: Task Dependencies\")\n",
    "print()\n",
    "\n",
    "# Define task dependencies: mooring installation depends on anchor installation\n",
    "task_dependencies = {\n",
    "    'install_mooring': ['install_anchor']  # Mooring installation depends on anchor installation\n",
    "}\n",
    "\n",
    "dependency_types = {\n",
    "    'install_anchor->install_mooring': 'finish_start'  # Anchor must finish before mooring starts\n",
    "}\n",
    "\n",
    "print(\"📋 Task Dependencies:\")\n",
    "print(f\"  install_mooring depends on: {task_dependencies['install_mooring']}\")\n",
    "print(f\"  Dependency type: {dependency_types['install_anchor->install_mooring']}\")\n",
    "print()\n",
    "\n",
    "# Create scheduler with dependencies\n",
    "scheduler_with_deps = Scheduler(\n",
    "    tasks=tasks,\n",
    "    assets=assets,\n",
    "    task_asset_matrix=task_asset_matrix,\n",
    "    weather=[1, 1, 1, 1, 1],  # Reset to good weather\n",
    "    asset_groups=asset_groups,\n",
    "    task_dependencies=task_dependencies,\n",
    "    dependency_types=dependency_types,\n",
    "    wordy=0\n",
    ")\n",
    "\n",
    "scheduler_with_deps.set_up_optimizer()\n",
    "\n",
    "if hasattr(scheduler_with_deps, 'A_ub_2'):\n",
    "    print(f\"\\nA_ub_2 matrix equations (shape: {scheduler_with_deps.A_ub_2.shape}):\")\n",
    "    for i, (row, b_val) in enumerate(zip(scheduler_with_deps.A_ub_2, scheduler_with_deps.b_ub_2)):\n",
    "        row_str = '[' + ' '.join([str(val) for val in row]) + ']'\n",
    "        print(f\"{row_str} x ≤ {b_val}\")\n",
    "        \n",
    "    print(f\"\\nConstraint 2 ensures that the mooring installation task cannot start\")\n",
    "    print(f\"until the anchor installation task has been completed, maintaining logical\")\n",
    "    print(f\"installation sequencing.\")\n",
    "else:\n",
    "    print(\"No task dependencies defined - no constraints needed\")"
   ]
  },
  {
   "cell_type": "markdown",
   "id": "02b1e346",
   "metadata": {},
   "source": [
    "In this example, we have updated the dependencies to ensure that Task 0 (Install Mooring) is only done after Task 1 (Install Anchor) is completed, which adds many additional constraints, like:\n",
    "\n",
    "$ X_{t,a}[1,0] + X_{t,s}[0,0] + X_{t,s}[1,0] \\leq 2 \\quad X_{t,a}[1,0] + X_{t,s}[0,1] + X_{t,s}[1,0] \\leq 2 \\quad X_{t,a}[1,0] + X_{t,s}[0,2] + X_{t,s}[1,0] \\leq 2$\n",
    "\n",
    "which ensures that if the second task is active with the first asset group, then the first task cannot start in periods 0, 1, or 2 if the second task starts in period 0. (The names of first and second are confusing here, but it's written correctly).\n",
    "\n",
    "This same logic applies for all other start times for each feasible task-asset combination for the dependent task, blocking it from occupying time periods that would violate the constraint."
   ]
  },
  {
   "cell_type": "code",
   "execution_count": null,
   "id": "0ea6a663",
   "metadata": {},
   "outputs": [],
   "source": [
    "scheduler_with_deps.optimize()"
   ]
  },
  {
   "cell_type": "markdown",
   "id": "0f487893",
   "metadata": {},
   "source": [
    "### Constraint 2+: Task Dependencies with Offsets\n",
    "\n",
    "We now showcase how we can add offsets to the dependencies.\n",
    "\n",
    "As a basic example, how would the scheduling work if Task 0 (Install Mooring) were to start one period after Task 1 (Install Anchor) starts?\n",
    "\n",
    "Let's run another example:"
   ]
  },
  {
   "cell_type": "code",
   "execution_count": null,
   "id": "34f584ef",
   "metadata": {},
   "outputs": [],
   "source": [
    "# Define task dependencies: mooring installation depends on anchor installation\n",
    "task_dependencies = {\n",
    "    'install_mooring': ['install_anchor']  # Mooring installation depends on anchor installation\n",
    "}\n",
    "\n",
    "dependency_types = {\n",
    "    'install_anchor->install_mooring': 'start_start'  # Anchor must finish before mooring starts\n",
    "}\n",
    "\n",
    "offsets = {\n",
    "    'install_anchor->install_mooring': 1    # Mooring installation to start 1 period after Anchor installation\n",
    "}\n",
    "\n",
    "# Create scheduler with dependencies\n",
    "scheduler_with_offset_dep = Scheduler(\n",
    "    tasks=tasks,\n",
    "    assets=assets,\n",
    "    task_asset_matrix=task_asset_matrix,\n",
    "    task_dependencies=task_dependencies,\n",
    "    dependency_types=dependency_types,\n",
    "    offsets=offsets,\n",
    "    weather=[1, 1, 1, 1, 1],  # Reset to good weather\n",
    "    asset_groups=asset_groups,\n",
    "    wordy=0\n",
    ")\n",
    "\n",
    "scheduler_with_offset_dep.set_up_optimizer()\n",
    "\n",
    "if hasattr(scheduler_with_deps, 'A_ub_2'):\n",
    "    print(f\"\\nA_ub_2 matrix equations (shape: {scheduler_with_deps.A_ub_2.shape}):\")\n",
    "    for i, (row, b_val) in enumerate(zip(scheduler_with_deps.A_ub_2, scheduler_with_deps.b_ub_2)):\n",
    "        row_str = '[' + ' '.join([str(val) for val in row]) + ']'\n",
    "        print(f\"{row_str} x ≤ {b_val}\")\n",
    "        \n",
    "    print(f\"\\nConstraint 2 ensures that the mooring installation task cannot start\")\n",
    "    print(f\"until the anchor installation task has been completed, maintaining logical\")\n",
    "    print(f\"installation sequencing.\")\n",
    "else:\n",
    "    print(\"No task dependencies defined - no constraints needed\")\n",
    "\n",
    "scheduler_with_offset_dep.optimize()"
   ]
  },
  {
   "cell_type": "markdown",
   "id": "5e056bfb",
   "metadata": {},
   "source": [
    "## A More Complicated Case\n",
    "\n",
    "Provide an example of a more involved schedule problem with many more assets and tasks..."
   ]
  }
 ],
 "metadata": {
  "kernelspec": {
   "display_name": "famodel-env",
   "language": "python",
   "name": "python3"
  },
  "language_info": {
   "codemirror_mode": {
    "name": "ipython",
    "version": 3
   },
   "file_extension": ".py",
   "mimetype": "text/x-python",
   "name": "python",
   "nbconvert_exporter": "python",
   "pygments_lexer": "ipython3",
   "version": "3.11.5"
  }
 },
 "nbformat": 4,
 "nbformat_minor": 5
}
