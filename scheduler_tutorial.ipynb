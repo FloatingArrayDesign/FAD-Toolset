{
 "cells": [
  {
   "cell_type": "markdown",
   "id": "a122639d",
   "metadata": {},
   "source": [
    "## IRMA Scheduler Tutorial\n",
    "\n",
    "Welcome to the Interactive Tutorial for the **IRMA (Installation Resource Management & Analytics) Scheduler**!\n",
    "\n",
    "This notebook aims to guide new users/readers through the Mixed Integer Linear Programming (MILP) of the scheduler.\n",
    "\n",
    "### Introduction\n",
    "Imagine you are planning the schedule of installation activities for the deployment of an offshore system. \n",
    "\n",
    "📋 **Many Tasks**: Discrete work activities that need to be completed (e.g., anchor installation, cable laying)  \n",
    "🚢 **Multiple Assets**: Resources (typically vessels) that can perform certain Tasks based on their capabilities (e.g., heavy-lift vessel, cable-laying vessel, support vessel)  \n",
    "⚙️ **Task-Asset Assignments**: Multiple Assets can be assigned to each Task, where each assignment has an associated cost and time duration  \n",
    "🌊 **Weather Windows**: Assets can only work in suitable sea conditions (e.g., wind speed limits, wave height limits)  \n",
    "💰 **Time and Cost**: The schedule should aim to minimize the total cost of all tasks performed\n",
    "\n",
    "How can the scheduler figure out what assets to assign to what tasks and when to perform each task to minimize time and/or cost?\n",
    "\n",
    "### Mixed Integer Linear Programming (MILP)\n",
    "\n",
    "A type of optimization problem that uses a mixture of integer, binary, and continuous variables subject to linear constraints to minimize an objective. \n",
    "\n",
    "As an example, let's say you own a truck delivery company with 3 trucks and you need to decide which trucks to send out for delivery, where each truck (x_i) has a cost of delivery and a time duration. The goal is to minimize cost of delivery, under a constraint that the total delivery time needs to be at least 12 hours. The only decisions are to either send out the truck for delivery (1) or not (0).\n",
    "\n",
    "Minimize \n",
    "$$ 500x_1 + 400x_2 + 300x_3 $$\n",
    "\n",
    "where\n",
    "\n",
    "$$ 7x_1 + 6x_2 + 4x_3 \\geq 12 $$\n",
    "\n",
    "A MILP solver will realize that it needs at least two trucks for delivery and also figure out that Truck 2 ($x_2$) and Truck 3 ($x_3$) will not satisfy the constraint and neither will Truck 1 ($x_1$) and Truck 3 ($x_3$). That leaves the options of Truck 1 and Truck 2, or all three trucks. It will choose only Truck 1 and Truck 2 since that minimizes cost. (This also assumes that each truck can only be used once).\n",
    "\n",
    "This tutorial only considers binary variables (for now).\n",
    "\n",
    "$$x \\in \\{0,1\\}$$\n",
    "\n",
    "to determine what decisions to make to minimize the objective of the scheduler."
   ]
  },
  {
   "cell_type": "markdown",
   "id": "dfbed4e7",
   "metadata": {},
   "source": [
    "## Setup\n",
    "\n",
    "First, let's import the necessary libraries and set up our environment."
   ]
  },
  {
   "cell_type": "code",
   "execution_count": null,
   "id": "85932d75",
   "metadata": {},
   "outputs": [],
   "source": [
    "# Standard libraries\n",
    "import numpy as np\n",
    "import pandas as pd\n",
    "import matplotlib.pyplot as plt\n",
    "import sys\n",
    "import os\n",
    "\n",
    "# Add the FAModel path for imports\n",
    "sys.path.append(os.path.join(os.getcwd(), 'famodel'))\n",
    "\n",
    "# Import the IRMA scheduler\n",
    "from famodel.irma.scheduler import Scheduler\n",
    "\n",
    "# Set up plotting\n",
    "plt.style.use('default')\n",
    "plt.rcParams['figure.figsize'] = [12, 8]\n",
    "\n",
    "print(\"✅ Libraries imported successfully!\")\n",
    "print(\"📊 Ready to explore the IRMA Scheduler!\")"
   ]
  },
  {
   "cell_type": "markdown",
   "id": "5fa0ce33",
   "metadata": {},
   "source": [
    "## Simple Case: Two Tasks, Two Assets\n",
    "\n",
    "Let's start with the most basic scenario to understand the fundamentals:\n",
    "\n",
    "### Tasks\n",
    "\n",
    "Let's say that the installation of an offshore system requires two tasks: installing a mooring line, and installing an anchor, where each task has certain requirements that are needed to complete the task."
   ]
  },
  {
   "cell_type": "code",
   "execution_count": null,
   "id": "96182f3d",
   "metadata": {},
   "outputs": [],
   "source": [
    "tasks = [\n",
    "    {\n",
    "        'name': \"install_mooring\",\n",
    "        'requirements': ['mooring_reel', 'positioning']\n",
    "    },\n",
    "    {\n",
    "        'name': \"install_anchor\",\n",
    "        'requirements': ['anchor_handling','positioning']\n",
    "    }\n",
    "]\n",
    "\n",
    "# Display task information\n",
    "task_df = pd.DataFrame(tasks)\n",
    "print(task_df)"
   ]
  },
  {
   "cell_type": "markdown",
   "id": "3312e500",
   "metadata": {},
   "source": [
    "## Assets\n",
    "\n",
    "And that there are two vessels (assets) that could potentially be used to perform these installations, each with their own set of capabilities, daily cost, and an integer value to represent what weather conditions it can operate in. For example, the Multi-Purpose Supply Vessel (MPSV) cannot operate in wave heights greater than 2 m, but the Anchor Handling Tug Supply Vessel (AHTS) can, but no greater than 4 m."
   ]
  },
  {
   "cell_type": "code",
   "execution_count": null,
   "id": "5f7436a7",
   "metadata": {},
   "outputs": [],
   "source": [
    "# Define our installation vessel\n",
    "assets = [\n",
    "    {\n",
    "        'name': 'AHTS', \n",
    "        'capabilities': ['anchor_handling', 'mooring_reel', 'positioning'],\n",
    "        'daily_cost': 50000,\n",
    "        'max_weather': 2\n",
    "    },\n",
    "    {\n",
    "        'name': 'MPSV', \n",
    "        'capabilities': ['mooring_reel', 'positioning'],\n",
    "        'daily_cost': 25000,\n",
    "        'max_weather': 1\n",
    "    }\n",
    "]\n",
    "\n",
    "print(\"🚢 Asset Definition:\")\n",
    "asset_df = pd.DataFrame(assets)\n",
    "print(asset_df)"
   ]
  },
  {
   "cell_type": "markdown",
   "id": "bb6e9b04",
   "metadata": {},
   "source": [
    "## The Task-Asset Matrix\n",
    "\n",
    "Through a process that is still yet to be determined (TODO...Stein has something started), we can generate a **Task-Asset Matrix** that defines the cost and duration to perform each task by each set of assets.\n",
    "\n",
    "Each row of the task-asset matrix represents a different task and each column of the task-asset matrix represents a combination of assets.\n",
    "\n",
    "Entries with values of -1 represent task-asset pairs that are not feasible. Something like installing an anchor with a kayak."
   ]
  },
  {
   "cell_type": "code",
   "execution_count": null,
   "id": "109e75be",
   "metadata": {},
   "outputs": [],
   "source": [
    "#                 |  AHTS    |  MPSV    | AHTS+MPSV |\n",
    "# Install Mooring | (c, d)   | (c, d)   |   (c, d)  |\n",
    "# Install Anchor  | (c, d)   | (c, d)   |   (c, d)  |\n",
    "task_asset_matrix = np.array([\n",
    "                  [(2000, 2), (1000, 3), (2500, 3)],\n",
    "                  [(1500, 3), (-1,  -1), (4000, 2)]\n",
    "])\n",
    "\n",
    "print(\"🔗 Task-Asset Compatibility:\")\n",
    "print(task_asset_matrix)"
   ]
  },
  {
   "cell_type": "markdown",
   "id": "3f952cc3",
   "metadata": {},
   "source": [
    "## Asset Groups\n",
    "\n",
    "Different combinations of assets can be used for each task, and each produce a different cost and duration to perform the task based on the capabilities of the assets and the requirements of the task.\n",
    "\n",
    "The matrix generation process will filter out asset combinations that do not make sense (i.e., overlapping capabilities, maximum number of assets involved, extremely high costs, etc.)"
   ]
  },
  {
   "cell_type": "code",
   "execution_count": null,
   "id": "f52ed642",
   "metadata": {},
   "outputs": [],
   "source": [
    "asset_groups = [\n",
    "    {\n",
    "        'assets': ['AHTS'], \n",
    "    },\n",
    "    {\n",
    "        'assets': ['MPSV'], \n",
    "    },\n",
    "    {\n",
    "        'assets': ['AHTS','MPSV'], \n",
    "    },\n",
    "]\n",
    "\n",
    "print(\"🚢 Asset Groups\")\n",
    "asset_group_df = pd.DataFrame(asset_groups)\n",
    "print(asset_group_df)"
   ]
  },
  {
   "cell_type": "markdown",
   "id": "47d60811",
   "metadata": {},
   "source": [
    "## Time Periods & Weather\n",
    "\n",
    "We can also define the planning horizon (timeline) as a set of time periods with given weather conditions. Time periods could be any duration of time (e.g., hours, days, weeks, etc.).\n",
    "\n",
    "Good weather is normally designated by a 1, OK weather is designated by a 2, and bad weather is designated by a 3"
   ]
  },
  {
   "cell_type": "code",
   "execution_count": null,
   "id": "34d54959",
   "metadata": {},
   "outputs": [],
   "source": [
    "weather = [1, 1, 1, 1, 1]   # Start by defining 5 time periods, each with good weather\n",
    "\n",
    "print(\"📅 Planning Horizon:\")\n",
    "weather_df = pd.DataFrame({\n",
    "    'Weather_Condition': weather,\n",
    "    'Description': ['Good weather'] * len(weather)\n",
    "})\n",
    "print(weather_df)"
   ]
  },
  {
   "cell_type": "markdown",
   "id": "81284df5",
   "metadata": {},
   "source": [
    "## Running the Simple Scheduler\n",
    "\n",
    "Now let's create and run our first scheduler instance, which simply sets up many variables within the Scheduler class."
   ]
  },
  {
   "cell_type": "code",
   "execution_count": null,
   "id": "c920c16f",
   "metadata": {},
   "outputs": [],
   "source": [
    "# Create the scheduler for our simple scenario\n",
    "print(\"🔧 Creating scheduler for simple scenario...\")\n",
    "\n",
    "scheduler = Scheduler(\n",
    "    tasks=tasks,\n",
    "    assets=assets,\n",
    "    task_asset_matrix=task_asset_matrix,\n",
    "    weather=weather,\n",
    "    asset_groups=asset_groups,\n",
    "    wordy=1  # Enable some debug output\n",
    ")\n",
    "\n",
    "print(\"✅ Scheduler created successfully!\")"
   ]
  },
  {
   "cell_type": "markdown",
   "id": "d9604377",
   "metadata": {},
   "source": [
    "## Decision Variables\n",
    "\n",
    "The initialization sets up the decision variables involved in the MILP optimization. They include:\n",
    "\n",
    "- $X_{t,a} \\in \\{0,1\\}$: 1 if task $t$ is assigned to asset group $a$, 0 otherwise\n",
    "- $X_{t,p} \\in \\{0,1\\}$: 1 if task $t$ is active in period $p$, 0 otherwise\n",
    "- $X_{t,s} \\in \\{0,1\\}$: 1 if task $t$ starts at period $s$, 0 otherwise\n",
    "\n",
    "The only 'decisions' are whether certain asset groups are assigned to certain tasks $(X_{t,a})$, and when the task starts $(X_{t,s})$. The $X_{t,p}$ are also included to help organize the constraints in determining what periods each task occupy, based on the duration of the task-asset combination defined in the task-asset matrix.\n",
    "\n",
    "The decision variable vector $x$ then follows the form of \n",
    "\n",
    "$$ x = [X_{t,a}, X_{t,p}, X_{t,s}] $$\n",
    "\n",
    "where the length depends on the number of tasks $T$, the number of asset groups $A$, and the number of periods $P$"
   ]
  },
  {
   "cell_type": "markdown",
   "id": "fab8e41a",
   "metadata": {},
   "source": [
    "## Constraints\n",
    "\n",
    "Now that the scheduler and decision variables initialized, we need to ensure the constraints are well defined to include in the MILP optimization.\n",
    "\n",
    "In an MILP optimization, constraints are set to be linear and follow the form of \n",
    "\n",
    "$$\n",
    " A_{ub} \\text{ } x \\text{ } \\leq b_{ub} \\\\\n",
    " A_{eq} \\text{ } x \\text{ } = b_{eq}    \\\\\n",
    " A_{lb} \\text{ } x \\text{ } \\geq b_{lb} \\\\\n",
    "$$\n",
    "\n",
    "where $A$ and $b$ represent large vectors that when multipled by the binary decision variables of the $x$ vector, need to satisfy the constraint according to $b$."
   ]
  },
  {
   "cell_type": "markdown",
   "id": "8178632c",
   "metadata": {},
   "source": [
    "In the example at the top of this page, we would structure the constraint as the following:\n",
    "\n",
    "$$\n",
    "\\begin{bmatrix}\n",
    "7 & 6 & 4\n",
    "\\end{bmatrix}\n",
    "\\begin{bmatrix}\n",
    "x_1 \\\\ x_2 \\\\ x_3\n",
    "\\end{bmatrix}\n",
    "\\ge 12\n",
    "$$\n",
    "\n",
    "But now we need to develop many other constraints that fit this format and can be applied to our decision variables to ensure the problem solves how we want it to"
   ]
  },
  {
   "cell_type": "markdown",
   "id": "06e0ba5a",
   "metadata": {},
   "source": [
    "### Constraint 1: An asset group can only be assigned to a task if the asset group can perform the task\n",
    "\n",
    "Prevents Xta variables that correspond to invalid entries in the task-asset matrix from being turned on."
   ]
  },
  {
   "cell_type": "code",
   "execution_count": null,
   "id": "5a5ac49f",
   "metadata": {},
   "outputs": [],
   "source": []
  },
  {
   "cell_type": "code",
   "execution_count": null,
   "id": "06088598",
   "metadata": {},
   "outputs": [],
   "source": [
    "# Solve the optimization problem\n",
    "print(\"🚀 Solving the optimization problem...\\n\")\n",
    "\n",
    "result_simple = scheduler_simple.solve()\n",
    "\n",
    "if result_simple.success:\n",
    "    print(f\"\\n🎉 Optimization successful!\")\n",
    "    print(f\"💰 Total cost: {result_simple.fun:.0f}\")\n",
    "    \n",
    "    # Decode and display the solution\n",
    "    solution = scheduler_simple.decode_solution(result_simple.x)\n",
    "    \n",
    "    print(\"\\n📋 Optimal Schedule:\")\n",
    "    for task_idx, assignment in solution['task_assignments'].items():\n",
    "        task_name = tasks_simple[task_idx]['name']\n",
    "        asset_idx = assignment['asset_group']  # In simple case, asset_group = asset index\n",
    "        asset_name = assets_simple[asset_idx]['name']\n",
    "        periods = assignment['periods']\n",
    "        \n",
    "        print(f\"  📌 {task_name}:\")\n",
    "        print(f\"     🚢 Assigned to: {asset_name}\")\n",
    "        print(f\"     ⏰ Active in periods: {periods}\")\n",
    "        print(f\"     ⏱️  Duration: {len(periods)} periods\")\n",
    "        \n",
    "else:\n",
    "    print(f\"❌ Optimization failed: {result_simple.message}\")"
   ]
  }
 ],
 "metadata": {
  "kernelspec": {
   "display_name": "famodel-env",
   "language": "python",
   "name": "python3"
  },
  "language_info": {
   "codemirror_mode": {
    "name": "ipython",
    "version": 3
   },
   "file_extension": ".py",
   "mimetype": "text/x-python",
   "name": "python",
   "nbconvert_exporter": "python",
   "pygments_lexer": "ipython3",
   "version": "3.11.5"
  }
 },
 "nbformat": 4,
 "nbformat_minor": 5
}
